{
  "nbformat": 4,
  "nbformat_minor": 0,
  "metadata": {
    "colab": {
      "provenance": []
    },
    "kernelspec": {
      "name": "python3",
      "display_name": "Python 3"
    },
    "language_info": {
      "name": "python"
    }
  },
  "cells": [
    {
      "cell_type": "code",
      "source": [
        "!pip install tensorflow"
      ],
      "metadata": {
        "colab": {
          "base_uri": "https://localhost:8080/"
        },
        "id": "csqTujQcRB6g",
        "outputId": "88c8b478-c5b4-4729-91f8-864911709830"
      },
      "execution_count": 2,
      "outputs": [
        {
          "output_type": "stream",
          "name": "stdout",
          "text": [
            "Requirement already satisfied: tensorflow in /usr/local/lib/python3.10/dist-packages (2.15.0)\n",
            "Requirement already satisfied: absl-py>=1.0.0 in /usr/local/lib/python3.10/dist-packages (from tensorflow) (1.4.0)\n",
            "Requirement already satisfied: astunparse>=1.6.0 in /usr/local/lib/python3.10/dist-packages (from tensorflow) (1.6.3)\n",
            "Requirement already satisfied: flatbuffers>=23.5.26 in /usr/local/lib/python3.10/dist-packages (from tensorflow) (24.3.25)\n",
            "Requirement already satisfied: gast!=0.5.0,!=0.5.1,!=0.5.2,>=0.2.1 in /usr/local/lib/python3.10/dist-packages (from tensorflow) (0.5.4)\n",
            "Requirement already satisfied: google-pasta>=0.1.1 in /usr/local/lib/python3.10/dist-packages (from tensorflow) (0.2.0)\n",
            "Requirement already satisfied: h5py>=2.9.0 in /usr/local/lib/python3.10/dist-packages (from tensorflow) (3.9.0)\n",
            "Requirement already satisfied: libclang>=13.0.0 in /usr/local/lib/python3.10/dist-packages (from tensorflow) (18.1.1)\n",
            "Requirement already satisfied: ml-dtypes~=0.2.0 in /usr/local/lib/python3.10/dist-packages (from tensorflow) (0.2.0)\n",
            "Requirement already satisfied: numpy<2.0.0,>=1.23.5 in /usr/local/lib/python3.10/dist-packages (from tensorflow) (1.25.2)\n",
            "Requirement already satisfied: opt-einsum>=2.3.2 in /usr/local/lib/python3.10/dist-packages (from tensorflow) (3.3.0)\n",
            "Requirement already satisfied: packaging in /usr/local/lib/python3.10/dist-packages (from tensorflow) (24.0)\n",
            "Requirement already satisfied: protobuf!=4.21.0,!=4.21.1,!=4.21.2,!=4.21.3,!=4.21.4,!=4.21.5,<5.0.0dev,>=3.20.3 in /usr/local/lib/python3.10/dist-packages (from tensorflow) (3.20.3)\n",
            "Requirement already satisfied: setuptools in /usr/local/lib/python3.10/dist-packages (from tensorflow) (67.7.2)\n",
            "Requirement already satisfied: six>=1.12.0 in /usr/local/lib/python3.10/dist-packages (from tensorflow) (1.16.0)\n",
            "Requirement already satisfied: termcolor>=1.1.0 in /usr/local/lib/python3.10/dist-packages (from tensorflow) (2.4.0)\n",
            "Requirement already satisfied: typing-extensions>=3.6.6 in /usr/local/lib/python3.10/dist-packages (from tensorflow) (4.12.1)\n",
            "Requirement already satisfied: wrapt<1.15,>=1.11.0 in /usr/local/lib/python3.10/dist-packages (from tensorflow) (1.14.1)\n",
            "Requirement already satisfied: tensorflow-io-gcs-filesystem>=0.23.1 in /usr/local/lib/python3.10/dist-packages (from tensorflow) (0.37.0)\n",
            "Requirement already satisfied: grpcio<2.0,>=1.24.3 in /usr/local/lib/python3.10/dist-packages (from tensorflow) (1.64.1)\n",
            "Requirement already satisfied: tensorboard<2.16,>=2.15 in /usr/local/lib/python3.10/dist-packages (from tensorflow) (2.15.2)\n",
            "Requirement already satisfied: tensorflow-estimator<2.16,>=2.15.0 in /usr/local/lib/python3.10/dist-packages (from tensorflow) (2.15.0)\n",
            "Requirement already satisfied: keras<2.16,>=2.15.0 in /usr/local/lib/python3.10/dist-packages (from tensorflow) (2.15.0)\n",
            "Requirement already satisfied: wheel<1.0,>=0.23.0 in /usr/local/lib/python3.10/dist-packages (from astunparse>=1.6.0->tensorflow) (0.43.0)\n",
            "Requirement already satisfied: google-auth<3,>=1.6.3 in /usr/local/lib/python3.10/dist-packages (from tensorboard<2.16,>=2.15->tensorflow) (2.27.0)\n",
            "Requirement already satisfied: google-auth-oauthlib<2,>=0.5 in /usr/local/lib/python3.10/dist-packages (from tensorboard<2.16,>=2.15->tensorflow) (1.2.0)\n",
            "Requirement already satisfied: markdown>=2.6.8 in /usr/local/lib/python3.10/dist-packages (from tensorboard<2.16,>=2.15->tensorflow) (3.6)\n",
            "Requirement already satisfied: requests<3,>=2.21.0 in /usr/local/lib/python3.10/dist-packages (from tensorboard<2.16,>=2.15->tensorflow) (2.31.0)\n",
            "Requirement already satisfied: tensorboard-data-server<0.8.0,>=0.7.0 in /usr/local/lib/python3.10/dist-packages (from tensorboard<2.16,>=2.15->tensorflow) (0.7.2)\n",
            "Requirement already satisfied: werkzeug>=1.0.1 in /usr/local/lib/python3.10/dist-packages (from tensorboard<2.16,>=2.15->tensorflow) (3.0.3)\n",
            "Requirement already satisfied: cachetools<6.0,>=2.0.0 in /usr/local/lib/python3.10/dist-packages (from google-auth<3,>=1.6.3->tensorboard<2.16,>=2.15->tensorflow) (5.3.3)\n",
            "Requirement already satisfied: pyasn1-modules>=0.2.1 in /usr/local/lib/python3.10/dist-packages (from google-auth<3,>=1.6.3->tensorboard<2.16,>=2.15->tensorflow) (0.4.0)\n",
            "Requirement already satisfied: rsa<5,>=3.1.4 in /usr/local/lib/python3.10/dist-packages (from google-auth<3,>=1.6.3->tensorboard<2.16,>=2.15->tensorflow) (4.9)\n",
            "Requirement already satisfied: requests-oauthlib>=0.7.0 in /usr/local/lib/python3.10/dist-packages (from google-auth-oauthlib<2,>=0.5->tensorboard<2.16,>=2.15->tensorflow) (1.3.1)\n",
            "Requirement already satisfied: charset-normalizer<4,>=2 in /usr/local/lib/python3.10/dist-packages (from requests<3,>=2.21.0->tensorboard<2.16,>=2.15->tensorflow) (3.3.2)\n",
            "Requirement already satisfied: idna<4,>=2.5 in /usr/local/lib/python3.10/dist-packages (from requests<3,>=2.21.0->tensorboard<2.16,>=2.15->tensorflow) (3.7)\n",
            "Requirement already satisfied: urllib3<3,>=1.21.1 in /usr/local/lib/python3.10/dist-packages (from requests<3,>=2.21.0->tensorboard<2.16,>=2.15->tensorflow) (2.0.7)\n",
            "Requirement already satisfied: certifi>=2017.4.17 in /usr/local/lib/python3.10/dist-packages (from requests<3,>=2.21.0->tensorboard<2.16,>=2.15->tensorflow) (2024.6.2)\n",
            "Requirement already satisfied: MarkupSafe>=2.1.1 in /usr/local/lib/python3.10/dist-packages (from werkzeug>=1.0.1->tensorboard<2.16,>=2.15->tensorflow) (2.1.5)\n",
            "Requirement already satisfied: pyasn1<0.7.0,>=0.4.6 in /usr/local/lib/python3.10/dist-packages (from pyasn1-modules>=0.2.1->google-auth<3,>=1.6.3->tensorboard<2.16,>=2.15->tensorflow) (0.6.0)\n",
            "Requirement already satisfied: oauthlib>=3.0.0 in /usr/local/lib/python3.10/dist-packages (from requests-oauthlib>=0.7.0->google-auth-oauthlib<2,>=0.5->tensorboard<2.16,>=2.15->tensorflow) (3.2.2)\n"
          ]
        }
      ]
    },
    {
      "cell_type": "code",
      "execution_count": 5,
      "metadata": {
        "colab": {
          "base_uri": "https://localhost:8080/"
        },
        "id": "ipyQLERlQjW9",
        "outputId": "8c1bf3e3-0015-46e6-ed6f-6bce34dff7f1"
      },
      "outputs": [
        {
          "output_type": "stream",
          "name": "stdout",
          "text": [
            "Downloading data from https://storage.googleapis.com/tensorflow/tf-keras-datasets/mnist.npz\n",
            "11490434/11490434 [==============================] - 1s 0us/step\n"
          ]
        }
      ],
      "source": [
        "from tensorflow import keras\n",
        "from tensorflow.keras.datasets import mnist\n",
        "data = mnist.load_data()"
      ]
    },
    {
      "cell_type": "code",
      "source": [
        "data\n",
        "type(data)"
      ],
      "metadata": {
        "colab": {
          "base_uri": "https://localhost:8080/"
        },
        "id": "EcPyt_b_RkEX",
        "outputId": "d2550cbe-0f96-4d35-fd36-739ac3a10f8b"
      },
      "execution_count": 7,
      "outputs": [
        {
          "output_type": "execute_result",
          "data": {
            "text/plain": [
              "tuple"
            ]
          },
          "metadata": {},
          "execution_count": 7
        }
      ]
    },
    {
      "cell_type": "code",
      "source": [
        "(X_train, y_train), (X_test, y_test) = data\n",
        "X_train[0].shape\n",
        "X_train.shape"
      ],
      "metadata": {
        "colab": {
          "base_uri": "https://localhost:8080/"
        },
        "id": "xhaTE0pXRnk7",
        "outputId": "266addc9-3a83-4630-fb99-cb58e542aae7"
      },
      "execution_count": 8,
      "outputs": [
        {
          "output_type": "execute_result",
          "data": {
            "text/plain": [
              "(60000, 28, 28)"
            ]
          },
          "metadata": {},
          "execution_count": 8
        }
      ]
    },
    {
      "cell_type": "code",
      "source": [
        "X_train = X_train.reshape((X_train.shape[0], 28*28)).astype('float32')\n",
        "X_test = X_test.reshape((X_test.shape[0], 28*28)).astype('float32')"
      ],
      "metadata": {
        "id": "70nwfNjIRt3q"
      },
      "execution_count": 9,
      "outputs": []
    },
    {
      "cell_type": "code",
      "source": [
        "X_train = X_train / 255\n",
        "X_test = X_test / 255"
      ],
      "metadata": {
        "id": "rc5IefC4RyMO"
      },
      "execution_count": 10,
      "outputs": []
    },
    {
      "cell_type": "code",
      "source": [
        "from keras.models import Sequential\n",
        "from keras.layers import Dense\n",
        "model = Sequential()\n",
        "model.add(Dense(32, input_dim = 28 * 28, activation= 'relu'))\n",
        "model.add(Dense(64, activation = 'relu'))\n",
        "model.add(Dense(10, activation = 'softmax'))\n"
      ],
      "metadata": {
        "id": "vyb805IaRzkE"
      },
      "execution_count": 57,
      "outputs": []
    },
    {
      "cell_type": "code",
      "source": [
        "model.summary()"
      ],
      "metadata": {
        "colab": {
          "base_uri": "https://localhost:8080/"
        },
        "id": "JCbjuNteR2aK",
        "outputId": "1d76df44-a1f6-41c1-9303-9e9ee2876dab"
      },
      "execution_count": 58,
      "outputs": [
        {
          "output_type": "stream",
          "name": "stdout",
          "text": [
            "Model: \"sequential_4\"\n",
            "_________________________________________________________________\n",
            " Layer (type)                Output Shape              Param #   \n",
            "=================================================================\n",
            " dense_3 (Dense)             (None, 32)                25120     \n",
            "                                                                 \n",
            " dense_4 (Dense)             (None, 64)                2112      \n",
            "                                                                 \n",
            " dense_5 (Dense)             (None, 10)                650       \n",
            "                                                                 \n",
            "=================================================================\n",
            "Total params: 27882 (108.91 KB)\n",
            "Trainable params: 27882 (108.91 KB)\n",
            "Non-trainable params: 0 (0.00 Byte)\n",
            "_________________________________________________________________\n"
          ]
        }
      ]
    },
    {
      "cell_type": "code",
      "source": [
        "model.compile(optimizer='adam',\n",
        "              loss='sparse_categorical_crossentropy',\n",
        "              metrics=['accuracy'])\n"
      ],
      "metadata": {
        "id": "B28Pc4e0SPuf"
      },
      "execution_count": 59,
      "outputs": []
    },
    {
      "cell_type": "code",
      "source": [
        "model.fit(X_train, y_train, epochs=10, batch_size = 100)"
      ],
      "metadata": {
        "colab": {
          "base_uri": "https://localhost:8080/"
        },
        "id": "CwRC4CCFR9fP",
        "outputId": "06ec7389-5bff-425f-aebf-69c6b15d3d70"
      },
      "execution_count": 60,
      "outputs": [
        {
          "output_type": "stream",
          "name": "stdout",
          "text": [
            "Epoch 1/10\n",
            "600/600 [==============================] - 2s 2ms/step - loss: 0.4287 - accuracy: 0.8762\n",
            "Epoch 2/10\n",
            "600/600 [==============================] - 1s 2ms/step - loss: 0.2041 - accuracy: 0.9410\n",
            "Epoch 3/10\n",
            "600/600 [==============================] - 1s 2ms/step - loss: 0.1645 - accuracy: 0.9520\n",
            "Epoch 4/10\n",
            "600/600 [==============================] - 2s 3ms/step - loss: 0.1365 - accuracy: 0.9597\n",
            "Epoch 5/10\n",
            "600/600 [==============================] - 2s 3ms/step - loss: 0.1179 - accuracy: 0.9651\n",
            "Epoch 6/10\n",
            "600/600 [==============================] - 1s 2ms/step - loss: 0.1051 - accuracy: 0.9679\n",
            "Epoch 7/10\n",
            "600/600 [==============================] - 1s 2ms/step - loss: 0.0934 - accuracy: 0.9722\n",
            "Epoch 8/10\n",
            "600/600 [==============================] - 1s 2ms/step - loss: 0.0853 - accuracy: 0.9743\n",
            "Epoch 9/10\n",
            "600/600 [==============================] - 1s 2ms/step - loss: 0.0759 - accuracy: 0.9771\n",
            "Epoch 10/10\n",
            "600/600 [==============================] - 1s 2ms/step - loss: 0.0714 - accuracy: 0.9781\n"
          ]
        },
        {
          "output_type": "execute_result",
          "data": {
            "text/plain": [
              "<keras.src.callbacks.History at 0x7dca8f744370>"
            ]
          },
          "metadata": {},
          "execution_count": 60
        }
      ]
    },
    {
      "cell_type": "code",
      "source": [
        "scores = model.evaluate(X_test, y_test)\n",
        "print('Accuracy: ',scores[1] * 100)"
      ],
      "metadata": {
        "colab": {
          "base_uri": "https://localhost:8080/"
        },
        "id": "caaVSa38SHLF",
        "outputId": "2e61c0fe-c614-48f4-ef11-21fc0ba8746e"
      },
      "execution_count": 61,
      "outputs": [
        {
          "output_type": "stream",
          "name": "stdout",
          "text": [
            "313/313 [==============================] - 1s 1ms/step - loss: 0.1048 - accuracy: 0.9677\n",
            "Accuracy:  96.77000045776367\n"
          ]
        }
      ]
    },
    {
      "cell_type": "code",
      "source": [
        "from tensorflow.keras.preprocessing import image\n",
        "import numpy as np\n",
        "\n",
        "img_path = '/content/5.png'\n",
        "img = image.load_img(img_path, target_size=(28, 28), color_mode='grayscale')\n",
        "\n",
        "img_array = image.img_to_array(img)\n",
        "img_array = img_array / 255.0\n",
        "\n",
        "img_array = img_array.reshape(1, 28 * 28)\n"
      ],
      "metadata": {
        "id": "2CwZrC_YTI8d"
      },
      "execution_count": 68,
      "outputs": []
    },
    {
      "cell_type": "code",
      "source": [
        "predictions = model.predict(img_array)\n",
        "predicted_class = np.argmax(predictions, axis=1)\n",
        "\n"
      ],
      "metadata": {
        "colab": {
          "base_uri": "https://localhost:8080/"
        },
        "id": "NvWP-DnRaS77",
        "outputId": "381e5cfe-9808-4a4d-aae2-f2586955942a"
      },
      "execution_count": 69,
      "outputs": [
        {
          "output_type": "stream",
          "name": "stdout",
          "text": [
            "1/1 [==============================] - 0s 18ms/step\n"
          ]
        }
      ]
    },
    {
      "cell_type": "code",
      "source": [
        "print(f'Predicted class: {predicted_class[0]}')\n"
      ],
      "metadata": {
        "colab": {
          "base_uri": "https://localhost:8080/"
        },
        "id": "B7THsUC-aaAZ",
        "outputId": "db48ed0c-fb43-44db-b33b-376688961f04"
      },
      "execution_count": 70,
      "outputs": [
        {
          "output_type": "stream",
          "name": "stdout",
          "text": [
            "Predicted class: 3\n"
          ]
        }
      ]
    },
    {
      "cell_type": "markdown",
      "source": [
        "# **SVM** (97.92%)"
      ],
      "metadata": {
        "id": "iAHmqWwSnqpL"
      }
    },
    {
      "cell_type": "code",
      "source": [
        "from sklearn import svm\n",
        "from sklearn.metrics import accuracy_score\n",
        "\n",
        "X_train = X_train.reshape((X_train.shape[0], 28*28))\n",
        "X_test = X_test.reshape((X_test.shape[0], 28*28))\n",
        "\n",
        "svm_model = svm.SVC()\n",
        "svm_model.fit(X_train, y_train)\n",
        "\n",
        "svm_predictions = svm_model.predict(X_test)\n",
        "\n",
        "svm_accuracy = accuracy_score(y_test, svm_predictions)\n",
        "print(\"SVM Accuracy:\", svm_accuracy * 100)\n"
      ],
      "metadata": {
        "colab": {
          "base_uri": "https://localhost:8080/"
        },
        "id": "X59LYsb7abSH",
        "outputId": "7fa9b11d-dcef-4c90-b893-c7ca69049d6c"
      },
      "execution_count": 83,
      "outputs": [
        {
          "output_type": "stream",
          "name": "stdout",
          "text": [
            "SVM Accuracy: 97.92\n"
          ]
        }
      ]
    },
    {
      "cell_type": "code",
      "source": [
        "print(svm_predictions[0])"
      ],
      "metadata": {
        "colab": {
          "base_uri": "https://localhost:8080/"
        },
        "id": "Wj3n1oa-ivzI",
        "outputId": "7fb7c831-f2a8-4f21-f8bc-02e04783d55c"
      },
      "execution_count": 84,
      "outputs": [
        {
          "output_type": "stream",
          "name": "stdout",
          "text": [
            "7\n"
          ]
        }
      ]
    },
    {
      "cell_type": "code",
      "source": [
        "y_test[0]"
      ],
      "metadata": {
        "colab": {
          "base_uri": "https://localhost:8080/"
        },
        "id": "yYqYXYftkUZA",
        "outputId": "97040703-fee9-414c-d1ef-ff34135f0d62"
      },
      "execution_count": 85,
      "outputs": [
        {
          "output_type": "execute_result",
          "data": {
            "text/plain": [
              "7"
            ]
          },
          "metadata": {},
          "execution_count": 85
        }
      ]
    },
    {
      "cell_type": "code",
      "source": [
        "import numpy as np\n",
        "import matplotlib.pyplot as plt\n",
        "\n",
        "# Select random indices to compare\n",
        "random_indices = np.random.choice(len(X_test), 5)\n",
        "\n",
        "# Arrange images in a grid\n",
        "num_cols = 5  # Number of columns in the grid\n",
        "num_rows = -(-len(random_indices) // num_cols)  # Ceiling division to calculate number of rows\n",
        "\n",
        "fig, axs = plt.subplots(num_rows, num_cols, figsize=(12, 3*num_rows))\n",
        "\n",
        "for i, idx in enumerate(random_indices):\n",
        "    # Get prediction and actual label\n",
        "    prediction = svm_predictions[idx]\n",
        "    actual_label = y_test[idx]\n",
        "\n",
        "    # Reshape and plot the image\n",
        "    image = X_test[idx].reshape(28, 28)\n",
        "    ax = axs[i // num_cols, i % num_cols] if num_rows > 1 else axs[i % num_cols]\n",
        "    ax.imshow(image, cmap='gray')\n",
        "    ax.set_title(f\"Predicted: {prediction}, Actual: {actual_label}\")\n",
        "    ax.axis('off')\n",
        "\n",
        "plt.tight_layout()\n",
        "plt.show()\n",
        "\n"
      ],
      "metadata": {
        "colab": {
          "base_uri": "https://localhost:8080/",
          "height": 242
        },
        "id": "MrE3nt0BkWZK",
        "outputId": "0f1420b4-e2e1-4dde-a778-6d7fa80633b7"
      },
      "execution_count": 86,
      "outputs": [
        {
          "output_type": "display_data",
          "data": {
            "text/plain": [
              "<Figure size 1200x300 with 5 Axes>"
            ],
            "image/png": "[encoded data removed]"
          },
          "metadata": {}
        }
      ]
    },
    {
      "cell_type": "code",
      "source": [
        "import numpy as np\n",
        "import matplotlib.pyplot as plt\n",
        "\n",
        "# Find indices where predictions are wrong\n",
        "wrong_indices = np.where(svm_predictions != y_test)[0]\n",
        "\n",
        "# Select random wrong prediction indices if available\n",
        "if len(wrong_indices) > 0:\n",
        "    num_samples = min(5, len(wrong_indices))\n",
        "    num_cols = 5  # Number of columns in the grid\n",
        "    num_rows = -(-num_samples // num_cols)  # Ceiling division to calculate number of rows\n",
        "\n",
        "    fig, axs = plt.subplots(num_rows, num_cols, figsize=(12, 3*num_rows))\n",
        "\n",
        "    for i, idx in enumerate(np.random.choice(wrong_indices, num_samples, replace=False)):\n",
        "        # Get prediction and actual label\n",
        "        prediction = svm_predictions[idx]\n",
        "        actual_label = y_test[idx]\n",
        "\n",
        "        # Reshape and plot the image\n",
        "        image = X_test[idx].reshape(28, 28)\n",
        "        ax = axs[i // num_cols, i % num_cols] if num_rows > 1 else axs[i % num_cols]\n",
        "        ax.imshow(image, cmap='gray')\n",
        "        ax.set_title(f\"Predicted: {prediction}, Actual: {actual_label}\")\n",
        "        ax.axis('off')\n",
        "    plt.tight_layout()\n",
        "    plt.show()\n",
        "else:\n",
        "    print(\"No wrong predictions found.\")\n"
      ],
      "metadata": {
        "colab": {
          "base_uri": "https://localhost:8080/",
          "height": 242
        },
        "id": "1R25tPZJmrkF",
        "outputId": "20adeb8a-b92f-4994-c472-612e73a791a5"
      },
      "execution_count": 82,
      "outputs": [
        {
          "output_type": "display_data",
          "data": {
            "text/plain": [
              "<Figure size 1200x300 with 5 Axes>"
            ],
            "image/png": "[encoded data removed]"
          },
          "metadata": {}
        }
      ]
    },
    {
      "cell_type": "markdown",
      "source": [
        "# **KNN** (96.88%)"
      ],
      "metadata": {
        "id": "1YG4-XLanwkY"
      }
    },
    {
      "cell_type": "code",
      "source": [
        "from sklearn.neighbors import KNeighborsClassifier\n",
        "\n",
        "knn_model = KNeighborsClassifier(n_neighbors=5)\n",
        "knn_model.fit(X_train, y_train)\n",
        "\n",
        "knn_predictions = knn_model.predict(X_test)\n",
        "\n",
        "knn_accuracy = accuracy_score(y_test, knn_predictions)\n",
        "print(\"KNN Accuracy:\", knn_accuracy * 100)\n"
      ],
      "metadata": {
        "colab": {
          "base_uri": "https://localhost:8080/"
        },
        "id": "sIUW4iXRlIke",
        "outputId": "a152ec26-e823-440b-87bd-f351fd9840af"
      },
      "execution_count": 87,
      "outputs": [
        {
          "output_type": "stream",
          "name": "stdout",
          "text": [
            "KNN Accuracy: 96.88\n"
          ]
        }
      ]
    },
    {
      "cell_type": "code",
      "source": [
        "import numpy as np\n",
        "import matplotlib.pyplot as plt\n",
        "\n",
        "# Select random indices to compare\n",
        "random_indices = np.random.choice(len(X_test), 5)\n",
        "\n",
        "# Arrange images in a grid\n",
        "num_cols = 5  # Number of columns in the grid\n",
        "num_rows = -(-len(random_indices) // num_cols)  # Ceiling division to calculate number of rows\n",
        "\n",
        "fig, axs = plt.subplots(num_rows, num_cols, figsize=(12, 3*num_rows))\n",
        "\n",
        "for i, idx in enumerate(random_indices):\n",
        "    # Get prediction and actual label\n",
        "    prediction = knn_predictions[idx]\n",
        "    actual_label = y_test[idx]\n",
        "\n",
        "    # Reshape and plot the image\n",
        "    image = X_test[idx].reshape(28, 28)\n",
        "    ax = axs[i // num_cols, i % num_cols] if num_rows > 1 else axs[i % num_cols]\n",
        "    ax.imshow(image, cmap='gray')\n",
        "    ax.set_title(f\"Predicted: {prediction}, Actual: {actual_label}\")\n",
        "    ax.axis('off')\n",
        "\n",
        "plt.tight_layout()\n",
        "plt.show()\n"
      ],
      "metadata": {
        "colab": {
          "base_uri": "https://localhost:8080/",
          "height": 242
        },
        "id": "rEKkc8kpmFEb",
        "outputId": "d6b31ad4-aa7c-44b2-a12d-ff34d88e8611"
      },
      "execution_count": 88,
      "outputs": [
        {
          "output_type": "display_data",
          "data": {
            "text/plain": [
              "<Figure size 1200x300 with 5 Axes>"
            ],
            "image/png": "[encoded data removed]"
          },
          "metadata": {}
        }
      ]
    },
    {
      "cell_type": "code",
      "source": [
        "import numpy as np\n",
        "import matplotlib.pyplot as plt\n",
        "\n",
        "# Find indices where predictions are wrong\n",
        "wrong_indices = np.where(knn_predictions != y_test)[0]\n",
        "\n",
        "# Select random wrong prediction indices if available\n",
        "if len(wrong_indices) > 0:\n",
        "    num_samples = min(5, len(wrong_indices))\n",
        "    num_cols = 5  # Number of columns in the grid\n",
        "    num_rows = -(-num_samples // num_cols)  # Ceiling division to calculate number of rows\n",
        "\n",
        "    fig, axs = plt.subplots(num_rows, num_cols, figsize=(12, 3*num_rows))\n",
        "\n",
        "    for i, idx in enumerate(np.random.choice(wrong_indices, num_samples, replace=False)):\n",
        "        # Get prediction and actual label\n",
        "        prediction = knn_predictions [idx]\n",
        "        actual_label = y_test[idx]\n",
        "\n",
        "        # Reshape and plot the image\n",
        "        image = X_test[idx].reshape(28, 28)\n",
        "        ax = axs[i // num_cols, i % num_cols] if num_rows > 1 else axs[i % num_cols]\n",
        "        ax.imshow(image, cmap='gray')\n",
        "        ax.set_title(f\"Predicted: {prediction}, Actual: {actual_label}\")\n",
        "        ax.axis('off')\n",
        "    plt.tight_layout()\n",
        "    plt.show()\n",
        "else:\n",
        "    print(\"No wrong predictions found.\")\n"
      ],
      "metadata": {
        "colab": {
          "base_uri": "https://localhost:8080/",
          "height": 242
        },
        "id": "Z8oQifGbmYQ4",
        "outputId": "9cec0f96-df1b-4109-acc4-3345630a572c"
      },
      "execution_count": 89,
      "outputs": [
        {
          "output_type": "display_data",
          "data": {
            "text/plain": [
              "<Figure size 1200x300 with 5 Axes>"
            ],
            "image/png": "[encoded data removed]"
          },
          "metadata": {}
        }
      ]
    },
    {
      "cell_type": "markdown",
      "source": [
        "# **RANDOM FOREST CLASSIFIER** (97.14%)"
      ],
      "metadata": {
        "id": "DPDFWexupqhw"
      }
    },
    {
      "cell_type": "code",
      "source": [
        "from sklearn.ensemble import RandomForestClassifier\n",
        "from sklearn.metrics import accuracy_score\n",
        "\n",
        "\n",
        "rf_model = RandomForestClassifier()\n",
        "rf_model.fit(X_train, y_train)\n",
        "\n",
        "rf_predictions = rf_model.predict(X_test)\n",
        "\n",
        "\n",
        "rf_accuracy = accuracy_score(y_test, rf_predictions)\n",
        "print(\"Random Forest Accuracy:\", rf_accuracy * 100)"
      ],
      "metadata": {
        "colab": {
          "base_uri": "https://localhost:8080/"
        },
        "id": "Z6zntoS_pk0Z",
        "outputId": "6fb9973b-4ac2-402b-d7ff-cfe91a29b5bc"
      },
      "execution_count": 90,
      "outputs": [
        {
          "output_type": "stream",
          "name": "stdout",
          "text": [
            "Random Forest Accuracy: 97.14\n"
          ]
        }
      ]
    },
    {
      "cell_type": "code",
      "source": [
        "import numpy as np\n",
        "import matplotlib.pyplot as plt\n",
        "\n",
        "# Select random indices to compare\n",
        "random_indices = np.random.choice(len(X_test), 5)\n",
        "\n",
        "# Arrange images in a grid\n",
        "num_cols = 5  # Number of columns in the grid\n",
        "num_rows = -(-len(random_indices) // num_cols)  # Ceiling division to calculate number of rows\n",
        "\n",
        "fig, axs = plt.subplots(num_rows, num_cols, figsize=(12, 3*num_rows))\n",
        "\n",
        "for i, idx in enumerate(random_indices):\n",
        "    # Get prediction and actual label\n",
        "    prediction = rf_predictions[idx]\n",
        "    actual_label = y_test[idx]\n",
        "\n",
        "    # Reshape and plot the image\n",
        "    image = X_test[idx].reshape(28, 28)\n",
        "    ax = axs[i // num_cols, i % num_cols] if num_rows > 1 else axs[i % num_cols]\n",
        "    ax.imshow(image, cmap='gray')\n",
        "    ax.set_title(f\"Predicted: {prediction}, Actual: {actual_label}\")\n",
        "    ax.axis('off')\n",
        "\n",
        "plt.tight_layout()\n",
        "plt.show()"
      ],
      "metadata": {
        "colab": {
          "base_uri": "https://localhost:8080/",
          "height": 242
        },
        "id": "hXiShHepppV0",
        "outputId": "5046cfcd-5fef-47a4-9b4c-84adaab46b93"
      },
      "execution_count": 92,
      "outputs": [
        {
          "output_type": "display_data",
          "data": {
            "text/plain": [
              "<Figure size 1200x300 with 5 Axes>"
            ],
            "image/png": "[encoded data removed]"
          },
          "metadata": {}
        }
      ]
    },
    {
      "cell_type": "code",
      "source": [
        "import numpy as np\n",
        "import matplotlib.pyplot as plt\n",
        "\n",
        "# Find indices where predictions are wrong\n",
        "wrong_indices = np.where(rf_predictions != y_test)[0]\n",
        "\n",
        "# Select random wrong prediction indices if available\n",
        "if len(wrong_indices) > 0:\n",
        "    num_samples = min(5, len(wrong_indices))\n",
        "    num_cols = 5  # Number of columns in the grid\n",
        "    num_rows = -(-num_samples // num_cols)  # Ceiling division to calculate number of rows\n",
        "\n",
        "    fig, axs = plt.subplots(num_rows, num_cols, figsize=(12, 3*num_rows))\n",
        "\n",
        "    for i, idx in enumerate(np.random.choice(wrong_indices, num_samples, replace=False)):\n",
        "        # Get prediction and actual label\n",
        "        prediction = rf_predictions [idx]\n",
        "        actual_label = y_test[idx]\n",
        "\n",
        "        # Reshape and plot the image\n",
        "        image = X_test[idx].reshape(28, 28)\n",
        "        ax = axs[i // num_cols, i % num_cols] if num_rows > 1 else axs[i % num_cols]\n",
        "        ax.imshow(image, cmap='gray')\n",
        "        ax.set_title(f\"Predicted: {prediction}, Actual: {actual_label}\")\n",
        "        ax.axis('off')\n",
        "    plt.tight_layout()\n",
        "    plt.show()\n",
        "else:\n",
        "    print(\"No wrong predictions found.\")"
      ],
      "metadata": {
        "colab": {
          "base_uri": "https://localhost:8080/",
          "height": 242
        },
        "id": "iq2FVuDMqNR9",
        "outputId": "281603d3-9c92-4979-94e3-ddb19c4496b3"
      },
      "execution_count": 93,
      "outputs": [
        {
          "output_type": "display_data",
          "data": {
            "text/plain": [
              "<Figure size 1200x300 with 5 Axes>"
            ],
            "image/png": "[encoded data removed]"
          },
          "metadata": {}
        }
      ]
    },
    {
      "cell_type": "markdown",
      "source": [
        "# **XGBOOST CLASSIFIER** ( 97.95%)\n"
      ],
      "metadata": {
        "id": "KFKQhrShszf3"
      }
    },
    {
      "cell_type": "code",
      "source": [
        "import xgboost as xgb\n",
        "from sklearn.metrics import accuracy_score\n",
        "\n",
        "xgb_model = xgb.XGBClassifier()\n",
        "xgb_model.fit(X_train, y_train)\n",
        "\n",
        "xgb_predictions = xgb_model.predict(X_test)\n",
        "\n",
        "xgb_accuracy = accuracy_score(y_test, xgb_predictions)\n",
        "print(\"XGBoost Classifier Accuracy:\", xgb_accuracy * 100)\n"
      ],
      "metadata": {
        "colab": {
          "base_uri": "https://localhost:8080/"
        },
        "id": "Fm40522TqdwD",
        "outputId": "83e1127b-bc13-4d43-d08c-945bf3b1f811"
      },
      "execution_count": 94,
      "outputs": [
        {
          "output_type": "stream",
          "name": "stdout",
          "text": [
            "XGBoost Classifier Accuracy: 97.95\n"
          ]
        }
      ]
    },
    {
      "cell_type": "code",
      "source": [
        "import numpy as np\n",
        "import matplotlib.pyplot as plt\n",
        "\n",
        "# Select random indices to compare\n",
        "random_indices = np.random.choice(len(X_test), 5)\n",
        "\n",
        "# Arrange images in a grid\n",
        "num_cols = 5  # Number of columns in the grid\n",
        "num_rows = -(-len(random_indices) // num_cols)  # Ceiling division to calculate number of rows\n",
        "\n",
        "fig, axs = plt.subplots(num_rows, num_cols, figsize=(12, 3*num_rows))\n",
        "\n",
        "for i, idx in enumerate(random_indices):\n",
        "    # Get prediction and actual label\n",
        "    prediction = xgb_predictions[idx]\n",
        "    actual_label = y_test[idx]\n",
        "\n",
        "    # Reshape and plot the image\n",
        "    image = X_test[idx].reshape(28, 28)\n",
        "    ax = axs[i // num_cols, i % num_cols] if num_rows > 1 else axs[i % num_cols]\n",
        "    ax.imshow(image, cmap='gray')\n",
        "    ax.set_title(f\"Predicted: {prediction}, Actual: {actual_label}\")\n",
        "    ax.axis('off')\n",
        "\n",
        "plt.tight_layout()\n",
        "plt.show()"
      ],
      "metadata": {
        "colab": {
          "base_uri": "https://localhost:8080/",
          "height": 242
        },
        "id": "DvdC8NA1s4yw",
        "outputId": "3f48416f-1b08-416c-99c9-82ace32dbab2"
      },
      "execution_count": 95,
      "outputs": [
        {
          "output_type": "display_data",
          "data": {
            "text/plain": [
              "<Figure size 1200x300 with 5 Axes>"
            ],
            "image/png": "[encoded data removed]"
          },
          "metadata": {}
        }
      ]
    },
    {
      "cell_type": "code",
      "source": [
        "import numpy as np\n",
        "import matplotlib.pyplot as plt\n",
        "\n",
        "# Find indices where predictions are wrong\n",
        "wrong_indices = np.where(xgb_predictions != y_test)[0]\n",
        "\n",
        "# Select random wrong prediction indices if available\n",
        "if len(wrong_indices) > 0:\n",
        "    num_samples = min(5, len(wrong_indices))\n",
        "    num_cols = 5  # Number of columns in the grid\n",
        "    num_rows = -(-num_samples // num_cols)  # Ceiling division to calculate number of rows\n",
        "\n",
        "    fig, axs = plt.subplots(num_rows, num_cols, figsize=(12, 3*num_rows))\n",
        "\n",
        "    for i, idx in enumerate(np.random.choice(wrong_indices, num_samples, replace=False)):\n",
        "        # Get prediction and actual label\n",
        "        prediction = xgb_predictions [idx]\n",
        "        actual_label = y_test[idx]\n",
        "\n",
        "        # Reshape and plot the image\n",
        "        image = X_test[idx].reshape(28, 28)\n",
        "        ax = axs[i // num_cols, i % num_cols] if num_rows > 1 else axs[i % num_cols]\n",
        "        ax.imshow(image, cmap='gray')\n",
        "        ax.set_title(f\"Predicted: {prediction}, Actual: {actual_label}\")\n",
        "        ax.axis('off')\n",
        "    plt.tight_layout()\n",
        "    plt.show()\n",
        "else:\n",
        "    print(\"No wrong predictions found.\")"
      ],
      "metadata": {
        "colab": {
          "base_uri": "https://localhost:8080/",
          "height": 242
        },
        "id": "u4iUiSH6ut8c",
        "outputId": "a4cf9f9d-946d-4f62-c07d-210ed59825c1"
      },
      "execution_count": 96,
      "outputs": [
        {
          "output_type": "display_data",
          "data": {
            "text/plain": [
              "<Figure size 1200x300 with 5 Axes>"
            ],
            "image/png": "[encoded data removed]"
          },
          "metadata": {}
        }
      ]
    },
    {
      "cell_type": "code",
      "source": [],
      "metadata": {
        "id": "rp7W6ka0uyuK"
      },
      "execution_count": null,
      "outputs": []
    }
  ]
}