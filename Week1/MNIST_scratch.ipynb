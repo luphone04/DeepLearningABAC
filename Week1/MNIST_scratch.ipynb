{
  "cells": [
    {
      "cell_type": "markdown",
      "metadata": {
        "id": "view-in-github",
        "colab_type": "text"
      },
      "source": [
        "<a href=\"https://colab.research.google.com/github/luphone04/DeepLearningABAC/blob/main/Week1/MNIST_scratch.ipynb\" target=\"_parent\"><img src=\"https://colab.research.google.com/assets/colab-badge.svg\" alt=\"Open In Colab\"/></a>"
      ]
    },
    {
      "metadata": {
        "id": "9GlzAjp6uaNK"
      },
      "cell_type": "markdown",
      "source": [
        "# Simple MNIST NN from scratch\n",
        "\n",
        "In this notebook, I implemented a simple two-layer neural network and trained it on the MNIST digit recognizer dataset. It's meant to be an instructional example, through which you can understand the underlying math of neural networks better.\n",
        "\n",
        "Here's a video I made explaining all the math and showing my progress as I coded the network: https://youtu.be/w8yWXqWQYmU"
      ]
    },
    {
      "metadata": {
        "_uuid": "8f2839f25d086af736a60e9eeb907d3b93b6e0e5",
        "_cell_guid": "b1076dfc-b9ad-4769-8c92-a6c4dae69d19",
        "trusted": true,
        "id": "gpOyBwJpuaNL"
      },
      "cell_type": "code",
      "source": [
        "import numpy as np\n",
        "import pandas as pd\n",
        "from matplotlib import pyplot as plt\n",
        "\n",
        "data = pd.read_csv('/kaggle/input/digit-recognizer/train.csv')"
      ],
      "execution_count": null,
      "outputs": []
    },
    {
      "metadata": {
        "trusted": true,
        "id": "ek677Ia6uaNM"
      },
      "cell_type": "code",
      "source": [
        "data = np.array(data)\n",
        "m, n = data.shape\n",
        "np.random.shuffle(data) # shuffle before splitting into dev and training sets\n",
        "\n",
        "data_dev = data[0:1000].T\n",
        "Y_dev = data_dev[0]\n",
        "X_dev = data_dev[1:n]\n",
        "X_dev = X_dev / 255.\n",
        "\n",
        "data_train = data[1000:m].T\n",
        "Y_train = data_train[0]\n",
        "X_train = data_train[1:n]\n",
        "X_train = X_train / 255.\n",
        "_,m_train = X_train.shape"
      ],
      "execution_count": null,
      "outputs": []
    },
    {
      "metadata": {
        "trusted": true,
        "colab": {
          "base_uri": "https://localhost:8080/"
        },
        "id": "fwXVF3WGuaNM",
        "outputId": "c1fcc49d-ab8c-4940-f8bc-3b1df3f3bf53"
      },
      "cell_type": "code",
      "source": [
        "Y_train"
      ],
      "execution_count": null,
      "outputs": [
        {
          "output_type": "execute_result",
          "data": {
            "text/plain": [
              "array([9, 0, 8, ..., 3, 5, 1])"
            ]
          },
          "metadata": {},
          "execution_count": 36
        }
      ]
    },
    {
      "metadata": {
        "id": "xq3NMcHAuaNM"
      },
      "cell_type": "markdown",
      "source": [
        "Our NN will have a simple two-layer architecture. Input layer $a^{[0]}$ will have 784 units corresponding to the 784 pixels in each 28x28 input image. A hidden layer $a^{[1]}$ will have 10 units with ReLU activation, and finally our output layer $a^{[2]}$ will have 10 units corresponding to the ten digit classes with softmax activation.\n",
        "\n",
        "**Forward propagation**\n",
        "\n",
        "$$Z^{[1]} = W^{[1]} X + b^{[1]}$$\n",
        "$$A^{[1]} = g_{\\text{ReLU}}(Z^{[1]}))$$\n",
        "$$Z^{[2]} = W^{[2]} A^{[1]} + b^{[2]}$$\n",
        "$$A^{[2]} = g_{\\text{softmax}}(Z^{[2]})$$\n",
        "\n",
        "**Backward propagation**\n",
        "\n",
        "$$dZ^{[2]} = A^{[2]} - Y$$\n",
        "$$dW^{[2]} = \\frac{1}{m} dZ^{[2]} A^{[1]T}$$\n",
        "$$dB^{[2]} = \\frac{1}{m} \\Sigma {dZ^{[2]}}$$\n",
        "$$dZ^{[1]} = W^{[2]T} dZ^{[2]} .* g^{[1]\\prime} (z^{[1]})$$\n",
        "$$dW^{[1]} = \\frac{1}{m} dZ^{[1]} A^{[0]T}$$\n",
        "$$dB^{[1]} = \\frac{1}{m} \\Sigma {dZ^{[1]}}$$\n",
        "\n",
        "**Parameter updates**\n",
        "\n",
        "$$W^{[2]} := W^{[2]} - \\alpha dW^{[2]}$$\n",
        "$$b^{[2]} := b^{[2]} - \\alpha db^{[2]}$$\n",
        "$$W^{[1]} := W^{[1]} - \\alpha dW^{[1]}$$\n",
        "$$b^{[1]} := b^{[1]} - \\alpha db^{[1]}$$\n",
        "\n",
        "**Vars and shapes**\n",
        "\n",
        "Forward prop\n",
        "\n",
        "- $A^{[0]} = X$: 784 x m\n",
        "- $Z^{[1]} \\sim A^{[1]}$: 10 x m\n",
        "- $W^{[1]}$: 10 x 784 (as $W^{[1]} A^{[0]} \\sim Z^{[1]}$)\n",
        "- $B^{[1]}$: 10 x 1\n",
        "- $Z^{[2]} \\sim A^{[2]}$: 10 x m\n",
        "- $W^{[1]}$: 10 x 10 (as $W^{[2]} A^{[1]} \\sim Z^{[2]}$)\n",
        "- $B^{[2]}$: 10 x 1\n",
        "\n",
        "Backprop\n",
        "\n",
        "- $dZ^{[2]}$: 10 x m ($~A^{[2]}$)\n",
        "- $dW^{[2]}$: 10 x 10\n",
        "- $dB^{[2]}$: 10 x 1\n",
        "- $dZ^{[1]}$: 10 x m ($~A^{[1]}$)\n",
        "- $dW^{[1]}$: 10 x 10\n",
        "- $dB^{[1]}$: 10 x 1"
      ]
    },
    {
      "metadata": {
        "trusted": true,
        "id": "ddc2gshyuaNN"
      },
      "cell_type": "code",
      "source": [
        "def init_params():\n",
        "    W1 = np.random.normal(size=(10, 784)) * np.sqrt(1./(784))\n",
        "    b1 = np.random.normal(size=(10, 1)) * np.sqrt(1./10)\n",
        "    W2 = np.random.normal(size=(10, 10)) * np.sqrt(1./20)\n",
        "    b2 = np.random.normal(size=(10, 1)) * np.sqrt(1./(784))\n",
        "    return W1, b1, W2, b2\n",
        "    return W1, b1, W2, b2\n",
        "\n",
        "def ReLU(Z):\n",
        "    return np.maximum(Z, 0)\n",
        "\n",
        "def softmax(Z):\n",
        "    Z -= np.max(Z, axis=0)  # Subtract max value for numerical stability\n",
        "    A = np.exp(Z) / np.sum(np.exp(Z), axis=0)\n",
        "    return A\n",
        "\n",
        "def forward_prop(W1, b1, W2, b2, X):\n",
        "    Z1 = W1.dot(X) + b1\n",
        "    A1 = ReLU(Z1)\n",
        "    Z2 = W2.dot(A1) + b2\n",
        "    A2 = softmax(Z2)\n",
        "    return Z1, A1, Z2, A2\n",
        "\n",
        "def ReLU_deriv(Z):\n",
        "    return Z > 0\n",
        "\n",
        "def one_hot(Y):\n",
        "    one_hot_Y = np.zeros((Y.size, Y.max() + 1))\n",
        "    one_hot_Y[np.arange(Y.size), Y] = 1\n",
        "    one_hot_Y = one_hot_Y.T\n",
        "    return one_hot_Y\n",
        "\n",
        "def backward_prop(Z1, A1, Z2, A2, W1, W2, X, Y):\n",
        "    one_hot_Y = one_hot(Y)\n",
        "    dZ2 = A2 - one_hot_Y\n",
        "    dW2 = 1 / m * dZ2.dot(A1.T)\n",
        "    db2 = 1 / m * np.sum(dZ2)\n",
        "    dZ1 = W2.T.dot(dZ2) * ReLU_deriv(Z1)\n",
        "    dW1 = 1 / m * dZ1.dot(X.T)\n",
        "    db1 = 1 / m * np.sum(dZ1)\n",
        "    return dW1, db1, dW2, db2\n",
        "\n",
        "def update_params(W1, b1, W2, b2, dW1, db1, dW2, db2, alpha):\n",
        "    W1 = W1 - alpha * dW1\n",
        "    b1 = b1 - alpha * db1\n",
        "    W2 = W2 - alpha * dW2\n",
        "    b2 = b2 - alpha * db2\n",
        "    return W1, b1, W2, b2"
      ],
      "execution_count": null,
      "outputs": []
    },
    {
      "metadata": {
        "trusted": true,
        "id": "PLGAcnHjuaNN"
      },
      "cell_type": "code",
      "source": [
        "def get_predictions(A2):\n",
        "    return np.argmax(A2, 0)\n",
        "\n",
        "def get_accuracy(predictions, Y):\n",
        "    print(predictions, Y)\n",
        "    return np.sum(predictions == Y) / Y.size\n",
        "\n",
        "def gradient_descent(X, Y, alpha, iterations):\n",
        "    W1, b1, W2, b2 = init_params()\n",
        "    for i in range(iterations):\n",
        "        Z1, A1, Z2, A2 = forward_prop(W1, b1, W2, b2, X)\n",
        "        dW1, db1, dW2, db2 = backward_prop(Z1, A1, Z2, A2, W1, W2, X, Y)\n",
        "        W1, b1, W2, b2 = update_params(W1, b1, W2, b2, dW1, db1, dW2, db2, alpha)\n",
        "        if i % 10 == 0:\n",
        "            print(\"Iteration: \", i)\n",
        "            predictions = get_predictions(A2)\n",
        "            print(get_accuracy(predictions, Y))\n",
        "    return W1, b1, W2, b2"
      ],
      "execution_count": null,
      "outputs": []
    },
    {
      "metadata": {
        "trusted": true,
        "colab": {
          "base_uri": "https://localhost:8080/"
        },
        "id": "TOXRcmuWuaNO",
        "outputId": "87359278-3b91-4c2d-a84f-1242a3238554"
      },
      "cell_type": "code",
      "source": [
        "W1, b1, W2, b2 = gradient_descent(X_train, Y_train, 0.10, 600)"
      ],
      "execution_count": null,
      "outputs": [
        {
          "output_type": "stream",
          "name": "stdout",
          "text": [
            "Iteration:  0\n",
            "[3 9 3 ... 5 9 9] [9 0 8 ... 3 5 1]\n",
            "0.11019512195121951\n",
            "Iteration:  10\n",
            "[9 1 8 ... 3 8 9] [9 0 8 ... 3 5 1]\n",
            "0.2290487804878049\n",
            "Iteration:  20\n",
            "[9 1 8 ... 3 1 1] [9 0 8 ... 3 5 1]\n",
            "0.31273170731707317\n",
            "Iteration:  30\n",
            "[9 1 8 ... 3 1 1] [9 0 8 ... 3 5 1]\n",
            "0.4228780487804878\n",
            "Iteration:  40\n",
            "[9 4 8 ... 3 1 1] [9 0 8 ... 3 5 1]\n",
            "0.5047560975609756\n",
            "Iteration:  50\n",
            "[9 0 8 ... 3 1 1] [9 0 8 ... 3 5 1]\n",
            "0.6033658536585366\n",
            "Iteration:  60\n",
            "[9 0 8 ... 3 3 1] [9 0 8 ... 3 5 1]\n",
            "0.7022195121951219\n",
            "Iteration:  70\n",
            "[9 0 8 ... 3 3 1] [9 0 8 ... 3 5 1]\n",
            "0.7460731707317073\n",
            "Iteration:  80\n",
            "[9 0 8 ... 3 3 1] [9 0 8 ... 3 5 1]\n",
            "0.7690731707317073\n",
            "Iteration:  90\n",
            "[9 0 8 ... 3 3 1] [9 0 8 ... 3 5 1]\n",
            "0.7870243902439025\n",
            "Iteration:  100\n",
            "[9 0 8 ... 3 3 1] [9 0 8 ... 3 5 1]\n",
            "0.8006341463414635\n",
            "Iteration:  110\n",
            "[9 0 8 ... 3 3 1] [9 0 8 ... 3 5 1]\n",
            "0.8099756097560976\n",
            "Iteration:  120\n",
            "[9 0 8 ... 3 3 1] [9 0 8 ... 3 5 1]\n",
            "0.818560975609756\n",
            "Iteration:  130\n",
            "[9 0 8 ... 3 3 1] [9 0 8 ... 3 5 1]\n",
            "0.8254878048780487\n",
            "Iteration:  140\n",
            "[9 0 8 ... 3 3 1] [9 0 8 ... 3 5 1]\n",
            "0.831390243902439\n",
            "Iteration:  150\n",
            "[9 0 8 ... 3 3 1] [9 0 8 ... 3 5 1]\n",
            "0.8362439024390244\n",
            "Iteration:  160\n",
            "[9 0 8 ... 3 3 1] [9 0 8 ... 3 5 1]\n",
            "0.8408292682926829\n",
            "Iteration:  170\n",
            "[9 0 8 ... 3 3 1] [9 0 8 ... 3 5 1]\n",
            "0.8450487804878049\n",
            "Iteration:  180\n",
            "[9 0 8 ... 3 3 1] [9 0 8 ... 3 5 1]\n",
            "0.8490975609756097\n",
            "Iteration:  190\n",
            "[9 0 8 ... 3 3 1] [9 0 8 ... 3 5 1]\n",
            "0.8522195121951219\n",
            "Iteration:  200\n",
            "[9 0 8 ... 3 3 1] [9 0 8 ... 3 5 1]\n",
            "0.8557073170731707\n",
            "Iteration:  210\n",
            "[9 0 8 ... 3 3 1] [9 0 8 ... 3 5 1]\n",
            "0.858780487804878\n",
            "Iteration:  220\n",
            "[9 0 8 ... 3 5 1] [9 0 8 ... 3 5 1]\n",
            "0.8612926829268293\n",
            "Iteration:  230\n",
            "[9 0 8 ... 3 5 1] [9 0 8 ... 3 5 1]\n",
            "0.8630975609756097\n",
            "Iteration:  240\n",
            "[9 0 8 ... 3 5 1] [9 0 8 ... 3 5 1]\n",
            "0.8656829268292683\n",
            "Iteration:  250\n",
            "[9 0 8 ... 3 5 1] [9 0 8 ... 3 5 1]\n",
            "0.8676341463414634\n",
            "Iteration:  260\n",
            "[9 0 8 ... 3 5 1] [9 0 8 ... 3 5 1]\n",
            "0.869780487804878\n",
            "Iteration:  270\n",
            "[9 0 8 ... 3 5 1] [9 0 8 ... 3 5 1]\n",
            "0.8714146341463415\n",
            "Iteration:  280\n",
            "[9 0 8 ... 3 5 1] [9 0 8 ... 3 5 1]\n",
            "0.8732439024390244\n",
            "Iteration:  290\n",
            "[9 0 8 ... 3 5 1] [9 0 8 ... 3 5 1]\n",
            "0.8744878048780488\n",
            "Iteration:  300\n",
            "[9 0 8 ... 3 5 1] [9 0 8 ... 3 5 1]\n",
            "0.875780487804878\n",
            "Iteration:  310\n",
            "[9 0 8 ... 3 5 1] [9 0 8 ... 3 5 1]\n",
            "0.8771463414634146\n",
            "Iteration:  320\n",
            "[9 0 8 ... 3 5 1] [9 0 8 ... 3 5 1]\n",
            "0.8786341463414634\n",
            "Iteration:  330\n",
            "[9 0 8 ... 3 5 1] [9 0 8 ... 3 5 1]\n",
            "0.8797560975609756\n",
            "Iteration:  340\n",
            "[9 0 8 ... 3 5 1] [9 0 8 ... 3 5 1]\n",
            "0.8811951219512195\n",
            "Iteration:  350\n",
            "[9 0 8 ... 3 5 1] [9 0 8 ... 3 5 1]\n",
            "0.8823170731707317\n",
            "Iteration:  360\n",
            "[9 0 8 ... 3 5 1] [9 0 8 ... 3 5 1]\n",
            "0.8832682926829268\n",
            "Iteration:  370\n",
            "[9 0 8 ... 3 5 1] [9 0 8 ... 3 5 1]\n",
            "0.8843170731707317\n",
            "Iteration:  380\n",
            "[9 0 8 ... 3 5 1] [9 0 8 ... 3 5 1]\n",
            "0.8854146341463415\n",
            "Iteration:  390\n",
            "[9 0 8 ... 3 5 7] [9 0 8 ... 3 5 1]\n",
            "0.8859756097560976\n",
            "Iteration:  400\n",
            "[9 0 8 ... 3 5 7] [9 0 8 ... 3 5 1]\n",
            "0.8868048780487805\n",
            "Iteration:  410\n",
            "[9 0 8 ... 3 5 7] [9 0 8 ... 3 5 1]\n",
            "0.8876829268292683\n",
            "Iteration:  420\n",
            "[9 0 8 ... 3 5 7] [9 0 8 ... 3 5 1]\n",
            "0.888390243902439\n",
            "Iteration:  430\n",
            "[9 0 8 ... 3 5 7] [9 0 8 ... 3 5 1]\n",
            "0.8893414634146342\n",
            "Iteration:  440\n",
            "[9 0 8 ... 3 5 7] [9 0 8 ... 3 5 1]\n",
            "0.8901463414634146\n",
            "Iteration:  450\n",
            "[9 0 8 ... 3 5 7] [9 0 8 ... 3 5 1]\n",
            "0.8908536585365854\n",
            "Iteration:  460\n",
            "[9 0 8 ... 3 5 7] [9 0 8 ... 3 5 1]\n",
            "0.8917317073170732\n",
            "Iteration:  470\n",
            "[9 0 8 ... 3 5 7] [9 0 8 ... 3 5 1]\n",
            "0.8923170731707317\n",
            "Iteration:  480\n",
            "[9 0 8 ... 3 5 7] [9 0 8 ... 3 5 1]\n",
            "0.8930487804878049\n",
            "Iteration:  490\n",
            "[9 0 8 ... 3 5 7] [9 0 8 ... 3 5 1]\n",
            "0.8937317073170732\n",
            "Iteration:  500\n",
            "[9 0 8 ... 3 5 7] [9 0 8 ... 3 5 1]\n",
            "0.8945121951219512\n",
            "Iteration:  510\n",
            "[9 0 8 ... 3 5 7] [9 0 8 ... 3 5 1]\n",
            "0.8950243902439025\n",
            "Iteration:  520\n",
            "[9 0 8 ... 3 5 7] [9 0 8 ... 3 5 1]\n",
            "0.8955853658536586\n",
            "Iteration:  530\n",
            "[9 0 8 ... 3 5 7] [9 0 8 ... 3 5 1]\n",
            "0.8960731707317073\n",
            "Iteration:  540\n",
            "[9 0 8 ... 3 5 7] [9 0 8 ... 3 5 1]\n",
            "0.8966585365853659\n",
            "Iteration:  550\n",
            "[9 0 8 ... 3 5 7] [9 0 8 ... 3 5 1]\n",
            "0.8971219512195122\n",
            "Iteration:  560\n",
            "[9 0 8 ... 3 5 7] [9 0 8 ... 3 5 1]\n",
            "0.8977804878048781\n",
            "Iteration:  570\n",
            "[9 0 8 ... 3 5 7] [9 0 8 ... 3 5 1]\n",
            "0.8982926829268293\n",
            "Iteration:  580\n",
            "[9 0 8 ... 3 5 7] [9 0 8 ... 3 5 1]\n",
            "0.8988048780487805\n",
            "Iteration:  590\n",
            "[9 0 8 ... 3 5 7] [9 0 8 ... 3 5 1]\n",
            "0.8992439024390244\n"
          ]
        }
      ]
    },
    {
      "metadata": {
        "trusted": true,
        "id": "x_Ud5eTluaNO"
      },
      "cell_type": "code",
      "source": [
        "def make_predictions(X, W1, b1, W2, b2):\n",
        "    _, _, _, A2 = forward_prop(W1, b1, W2, b2, X)\n",
        "    predictions = get_predictions(A2)\n",
        "    return predictions\n",
        "\n",
        "def test_prediction(index, W1, b1, W2, b2):\n",
        "    current_image = X_train[:, index, None]\n",
        "    prediction = make_predictions(X_train[:, index, None], W1, b1, W2, b2)\n",
        "    label = Y_train[index]\n",
        "    print(\"Prediction: \", prediction)\n",
        "    print(\"Label: \", label)\n",
        "\n",
        "    current_image = current_image.reshape((28, 28)) * 255\n",
        "    plt.gray()\n",
        "    plt.imshow(current_image, interpolation='nearest')\n",
        "    plt.show()"
      ],
      "execution_count": null,
      "outputs": []
    },
    {
      "metadata": {
        "id": "V4yW1IfquaNP"
      },
      "cell_type": "markdown",
      "source": [
        "Let's look at a couple of examples:"
      ]
    },
    {
      "metadata": {
        "trusted": true,
        "colab": {
          "base_uri": "https://localhost:8080/",
          "height": 1000
        },
        "id": "SxztqaGjuaNP",
        "outputId": "9806d19a-7460-4cb4-920b-cc1b43fe8855"
      },
      "cell_type": "code",
      "source": [
        "test_prediction(0, W1, b1, W2, b2)\n",
        "test_prediction(1, W1, b1, W2, b2)\n",
        "test_prediction(2, W1, b1, W2, b2)\n",
        "test_prediction(3, W1, b1, W2, b2)"
      ],
      "execution_count": null,
      "outputs": [
        {
          "output_type": "stream",
          "name": "stdout",
          "text": [
            "Prediction:  [9]\n",
            "Label:  9\n"
          ]
        },
        {
          "output_type": "display_data",
          "data": {
            "text/plain": [
              "<Figure size 640x480 with 1 Axes>"
            ],
            "image/png": "[encoded data removed]"
          },
          "metadata": {}
        },
        {
          "output_type": "stream",
          "name": "stdout",
          "text": [
            "Prediction:  [0]\n",
            "Label:  0\n"
          ]
        },
        {
          "output_type": "display_data",
          "data": {
            "text/plain": [
              "<Figure size 640x480 with 1 Axes>"
            ],
            "image/png": "[encoded data removed]"
          },
          "metadata": {}
        },
        {
          "output_type": "stream",
          "name": "stdout",
          "text": [
            "Prediction:  [8]\n",
            "Label:  8\n"
          ]
        },
        {
          "output_type": "display_data",
          "data": {
            "text/plain": [
              "<Figure size 640x480 with 1 Axes>"
            ],
            "image/png": "[encoded data removed]"
          },
          "metadata": {}
        },
        {
          "output_type": "stream",
          "name": "stdout",
          "text": [
            "Prediction:  [8]\n",
            "Label:  8\n"
          ]
        },
        {
          "output_type": "display_data",
          "data": {
            "text/plain": [
              "<Figure size 640x480 with 1 Axes>"
            ],
            "image/png": "[encoded data removed]"
          },
          "metadata": {}
        }
      ]
    },
    {
      "metadata": {
        "id": "UvaUIfjWuaNP"
      },
      "cell_type": "markdown",
      "source": [
        "Finally, let's find the accuracy on the dev set:"
      ]
    },
    {
      "metadata": {
        "trusted": true,
        "colab": {
          "base_uri": "https://localhost:8080/"
        },
        "id": "eJY6SOdLuaNP",
        "outputId": "e93efe54-3a93-44f7-dc72-6e4e6fccafb1"
      },
      "cell_type": "code",
      "source": [
        "dev_predictions = make_predictions(X_dev, W1, b1, W2, b2)\n",
        "get_accuracy(dev_predictions, Y_dev)"
      ],
      "execution_count": null,
      "outputs": [
        {
          "output_type": "stream",
          "name": "stdout",
          "text": [
            "[9 5 3 8 9 9 1 4 9 9 1 1 1 1 0 0 9 8 1 2 1 3 4 3 8 8 3 5 8 0 1 9 1 1 9 9 9\n",
            " 6 3 7 2 4 6 8 4 2 0 7 0 5 4 6 9 8 6 4 6 8 7 6 6 8 3 4 4 9 0 5 6 6 5 7 1 5\n",
            " 1 6 8 5 9 5 2 6 7 4 0 6 3 6 2 5 5 0 9 2 6 2 2 1 2 3 0 7 0 3 8 5 3 0 4 8 3\n",
            " 7 1 4 0 4 4 8 1 6 8 5 3 7 0 2 0 1 1 7 0 4 3 5 1 2 5 6 9 1 0 2 8 7 9 0 8 3\n",
            " 4 8 6 8 2 1 9 2 6 5 7 5 7 7 6 7 9 1 1 7 7 2 9 6 7 5 1 6 8 6 4 8 2 2 9 3 9\n",
            " 9 7 1 1 1 6 9 8 4 3 1 3 8 0 5 7 3 4 0 5 4 1 6 1 4 4 3 2 7 1 6 6 8 8 5 6 1\n",
            " 1 2 2 1 9 4 7 7 8 9 6 7 9 2 4 2 9 3 3 0 5 3 4 9 1 8 3 1 6 5 9 5 1 2 6 9 6\n",
            " 3 1 1 5 7 2 7 0 3 7 0 4 2 7 2 3 1 8 3 3 8 2 0 0 6 7 6 4 7 5 4 3 7 1 1 1 9\n",
            " 0 4 4 1 9 6 7 4 5 7 3 8 8 3 5 6 2 1 5 9 4 6 5 8 9 1 0 4 1 7 6 2 9 6 9 1 2\n",
            " 0 2 2 6 4 0 7 4 0 1 4 3 9 1 1 3 1 4 7 6 5 0 1 1 6 0 1 3 0 7 3 2 3 4 1 9 0\n",
            " 9 7 6 1 6 4 1 4 0 6 3 9 0 5 6 0 3 8 0 1 1 9 1 8 9 6 8 1 2 1 6 0 4 4 1 6 2\n",
            " 8 4 4 2 2 8 9 3 7 2 4 3 6 5 5 3 0 4 2 5 1 2 9 1 7 7 7 5 2 0 0 8 1 5 8 7 3\n",
            " 5 5 9 3 6 8 3 8 7 7 5 3 5 7 7 7 7 4 1 6 8 1 0 7 6 0 1 5 4 3 6 4 9 5 1 9 9\n",
            " 6 3 2 2 3 9 8 8 3 4 9 6 6 0 2 8 2 9 0 4 1 1 3 3 8 3 5 9 9 8 1 9 2 9 2 4 4\n",
            " 2 0 7 7 8 1 9 6 7 1 9 7 9 3 7 0 6 7 0 2 0 9 5 1 3 5 7 1 8 3 0 5 4 3 6 3 8\n",
            " 7 8 1 5 9 9 3 4 4 1 0 3 8 8 8 3 0 0 7 1 4 1 2 4 0 7 2 0 7 7 2 1 5 7 5 1 0\n",
            " 1 5 3 9 5 7 1 8 9 6 3 7 6 3 9 5 0 8 6 7 9 3 4 2 6 5 2 5 6 6 7 0 3 9 2 1 6\n",
            " 4 3 3 3 8 4 2 7 6 4 2 6 5 9 8 4 4 0 8 7 3 5 8 3 1 1 5 6 8 9 2 9 9 6 0 3 0\n",
            " 4 1 0 3 3 3 9 8 6 3 4 9 8 6 5 4 8 1 4 8 0 3 2 0 4 8 2 0 6 0 9 0 7 5 1 8 4\n",
            " 4 8 4 9 6 2 7 1 6 3 6 9 6 3 4 4 0 9 7 9 6 9 3 1 6 7 1 3 9 2 7 9 2 1 5 5 3\n",
            " 1 8 5 5 6 3 3 0 8 7 2 8 9 9 5 0 3 4 2 7 6 8 1 2 0 1 5 9 6 7 6 0 5 5 1 6 7\n",
            " 1 1 3 2 2 6 8 9 1 8 1 4 7 5 8 8 2 3 9 3 3 1 8 6 0 3 1 8 8 4 0 7 2 8 9 8 1\n",
            " 9 0 8 4 3 1 3 1 2 1 2 5 7 8 3 8 9 1 0 6 0 3 9 3 4 4 1 7 8 5 9 0 4 5 7 1 6\n",
            " 4 1 1 3 1 9 8 1 4 1 5 3 1 8 5 7 0 4 7 6 1 9 2 9 7 7 3 5 3 7 0 6 5 6 5 8 7\n",
            " 4 1 4 5 1 3 3 9 5 0 2 6 4 6 3 2 3 7 0 9 1 2 5 0 4 1 0 7 3 0 1 7 1 9 8 0 4\n",
            " 7 3 9 3 5 2 5 3 4 3 4 6 0 2 3 2 1 8 7 2 8 7 8 7 5 3 0 6 4 9 8 5 9 4 6 4 4\n",
            " 4 7 9 9 1 5 7 7 4 2 9 2 2 0 5 8 2 6 1 6 8 6 6 7 8 1 3 6 8 3 1 7 4 8 7 2 7\n",
            " 7] [9 5 3 8 9 4 1 4 9 9 1 1 9 1 0 0 9 8 1 2 1 3 4 3 9 8 3 5 8 0 6 9 1 1 9 9 9\n",
            " 5 3 7 2 4 3 8 4 2 0 7 0 5 4 6 9 8 6 4 6 8 7 6 6 8 3 4 4 9 0 5 6 6 8 9 1 5\n",
            " 1 6 8 5 4 5 2 6 7 4 0 6 3 6 2 5 3 0 9 2 6 2 2 1 2 5 0 7 0 9 1 5 3 0 4 0 3\n",
            " 7 1 4 0 4 4 8 1 6 8 5 3 7 0 2 0 1 1 3 0 4 3 8 1 2 9 6 7 1 0 2 8 7 5 0 8 3\n",
            " 4 8 6 1 2 1 9 8 6 5 7 5 7 7 6 7 9 1 1 7 7 2 9 6 5 5 1 6 8 6 4 8 2 2 4 8 9\n",
            " 9 7 1 1 1 6 9 8 4 3 1 3 8 0 5 7 3 4 0 5 4 1 6 1 4 4 3 2 7 1 6 6 8 8 5 6 1\n",
            " 1 2 2 1 9 9 2 7 8 9 6 7 9 2 4 2 9 3 8 0 5 3 4 9 1 8 3 1 6 5 9 5 1 5 6 9 6\n",
            " 3 1 1 5 8 2 7 0 3 7 0 4 2 7 2 3 1 8 3 7 5 2 0 0 6 7 6 4 7 5 4 3 7 7 1 1 9\n",
            " 0 4 4 1 9 6 7 4 3 7 3 6 8 3 5 6 2 1 5 9 4 6 5 8 9 1 0 4 1 7 6 2 9 6 4 1 2\n",
            " 0 2 2 6 4 0 7 4 0 1 4 3 9 1 1 3 1 4 7 6 5 0 1 1 6 0 1 3 0 7 3 2 3 4 1 9 0\n",
            " 9 7 6 1 6 4 1 4 0 5 3 9 0 5 6 0 3 8 0 1 1 9 1 8 9 6 8 1 2 1 6 0 4 4 1 6 2\n",
            " 8 4 4 2 2 8 9 3 7 2 4 3 6 5 5 3 0 4 2 5 1 2 9 1 7 7 7 5 7 0 0 8 1 5 8 7 3\n",
            " 5 5 9 3 6 8 3 8 7 9 5 3 5 7 7 9 7 4 1 6 8 1 0 7 6 0 1 5 4 3 6 4 9 5 1 4 9\n",
            " 6 3 2 2 3 9 8 8 8 4 9 6 4 0 2 8 2 9 0 4 1 8 5 3 8 2 5 9 9 8 7 9 7 9 2 4 4\n",
            " 2 0 7 7 8 1 9 6 7 1 9 7 9 3 7 0 6 7 0 8 0 4 5 1 5 3 7 1 9 3 0 5 4 3 6 3 3\n",
            " 7 8 1 5 9 9 3 4 4 1 0 3 8 8 8 3 0 0 7 1 4 1 2 4 9 7 2 0 7 7 2 1 5 7 5 1 0\n",
            " 1 5 3 9 5 7 9 8 9 6 3 7 6 3 9 5 0 8 2 7 9 3 4 2 6 5 2 5 2 6 7 0 3 9 2 1 6\n",
            " 4 3 3 3 8 4 2 7 6 4 2 2 5 9 8 4 9 0 8 7 3 5 5 3 1 1 5 6 8 9 2 9 9 8 0 3 0\n",
            " 9 1 0 3 3 3 8 8 6 3 4 9 8 6 3 4 8 1 4 2 0 3 2 0 4 8 3 0 6 0 9 0 7 5 1 8 4\n",
            " 6 5 4 9 6 2 7 1 6 3 2 9 6 3 4 4 0 9 7 7 6 9 3 1 6 7 1 3 4 2 7 9 2 1 5 5 3\n",
            " 1 2 5 5 6 3 3 0 8 7 2 5 9 9 5 0 3 4 2 7 6 8 1 2 0 1 5 9 6 7 6 0 5 5 1 6 7\n",
            " 1 1 3 2 2 6 5 9 1 5 1 4 7 5 5 8 2 5 9 3 3 1 8 6 5 3 1 8 8 4 0 7 2 8 9 8 3\n",
            " 9 0 8 4 3 1 3 1 2 1 2 5 7 8 3 8 7 1 0 6 0 3 9 3 4 4 1 7 8 5 9 0 4 5 7 1 6\n",
            " 4 1 1 3 1 9 8 1 4 1 5 3 1 8 3 7 0 4 7 6 1 9 2 9 7 7 3 5 3 7 0 6 5 6 3 8 7\n",
            " 4 1 4 5 1 2 3 9 5 0 2 6 4 6 3 2 3 7 0 9 1 2 5 0 4 1 0 7 3 0 1 7 1 9 8 0 4\n",
            " 7 3 9 3 5 7 5 9 4 3 4 6 0 2 3 2 1 5 7 2 8 7 8 9 5 5 0 6 4 9 1 5 9 4 6 4 4\n",
            " 4 7 4 9 1 5 7 7 2 2 9 2 2 0 5 8 2 6 1 6 8 6 6 7 8 1 5 6 2 3 1 7 4 8 7 2 7\n",
            " 7]\n"
          ]
        },
        {
          "output_type": "execute_result",
          "data": {
            "text/plain": [
              "0.907"
            ]
          },
          "metadata": {},
          "execution_count": 42
        }
      ]
    }
  ],
  "metadata": {
    "kernelspec": {
      "language": "python",
      "display_name": "Python 3",
      "name": "python3"
    },
    "language_info": {
      "pygments_lexer": "ipython3",
      "nbconvert_exporter": "python",
      "version": "3.6.4",
      "file_extension": ".py",
      "codemirror_mode": {
        "name": "ipython",
        "version": 3
      },
      "name": "python",
      "mimetype": "text/x-python"
    },
    "colab": {
      "provenance": [],
      "include_colab_link": true
    }
  },
  "nbformat": 4,
  "nbformat_minor": 0
}